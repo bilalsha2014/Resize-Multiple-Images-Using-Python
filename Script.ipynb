{
 "cells": [
  {
   "cell_type": "code",
   "execution_count": null,
   "metadata": {},
   "outputs": [],
   "source": [
    "# Resizing and adding logos in evey picture Using PIL and OS Module\n",
    "\n",
    "#Import PIL,OS Module \n",
    "#PIL=Python Image Library\n",
    "#GLOB= Finds all the path names.\n",
    "import PIL\n",
    "from PIL import Image\n",
    "import os\n",
    "\n",
    "# Change Directory to access Logo Image and Open it\n",
    "os.chdir(r'C:\\Users\\Admin\\Desktop\\Resize Multiple Images Using Python')\n",
    "\n",
    "# Open Logo Image\n",
    "logo = Image.open('logo.png')\n",
    "\n",
    "# Create an Output Folder.Output resized images will be stored in this Folder\n",
    "os.mkdir(\"Output\")\n",
    "\n",
    "# Change Directory to where Images are Currently Present\n",
    "os.chdir(r'C:\\Users\\Admin\\Desktop\\Resize Multiple Images Using Python\\Attacq Images')\n",
    "\n",
    "#print out the list of images in our source directory\n",
    "ImageList=os.listdir()\n",
    "\n",
    "# Image size to be set\n",
    "ImageNewSize=(750,750)\n",
    "\n",
    "\n",
    "#Loop to resize and put logo on the image\n",
    "for i in ImageList:\n",
    "#     Open Image one by one\n",
    "    OpenImage=Image.open(i)\n",
    "    Resized Image using ANTIALIAS Filter which is best right now in interpolation give size and \n",
    "    resizedImage=OpenImage.resize(ImageNewSize, PIL.Image.ANTIALIAS)\n",
    "    position=((resizedImage.width- logo.width), (resizedImage.height - logo.height))\n",
    "    resizedImage.paste(logo,position)\n",
    "    resizedImage.save(r\"C:\\Users\\Admin\\Desktop\\Resize Multiple Images Using Python\\Output/\"+ i,\"JPEG\" )\n"
   ]
  }
 ],
 "metadata": {
  "kernelspec": {
   "display_name": "Python 3",
   "language": "python",
   "name": "python3"
  },
  "language_info": {
   "codemirror_mode": {
    "name": "ipython",
    "version": 3
   },
   "file_extension": ".py",
   "mimetype": "text/x-python",
   "name": "python",
   "nbconvert_exporter": "python",
   "pygments_lexer": "ipython3",
   "version": "3.7.1"
  }
 },
 "nbformat": 4,
 "nbformat_minor": 2
}
