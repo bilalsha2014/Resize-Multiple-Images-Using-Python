{
 "cells": [
  {
   "cell_type": "code",
   "execution_count": null,
   "metadata": {},
   "outputs": [],
   "source": [
    "# How to Check dimensions of an image\n",
    "\n",
    "# width,height=image1.size\n",
    "# print(width)\n",
    "# print(height)\n",
    "\n",
    "#image.show(imagepath in quotation) = this will show the image/open up the image\n",
    "#image1.show('74_Aerial-imp_2.jpg')\n",
    "\n",
    "#image.save(imagepath in quotation where to save) = this will save the image in the mentioned path.\n",
    "#image1.save('123.png')\n"
   ]
  },
  {
   "cell_type": "code",
   "execution_count": null,
   "metadata": {},
   "outputs": [],
   "source": [
    "# Resampling filters\n",
    "# See Filters for details.\n",
    "\n",
    "# PIL.Image.NEAREST\n",
    "# PIL.Image.BOX\n",
    "# PIL.Image.BILINEAR\n",
    "# PIL.Image.HAMMING\n",
    "# PIL.Image.BICUBIC\n",
    "# PIL.Image.LANCZOS\n",
    "# Some filters are also available under the following names for backwards compatibility:\n",
    "\n",
    "# PIL.Image.NONE= NEAREST\n",
    "# PIL.Image.LINEAR= BILINEAR\n",
    "# PIL.Image.CUBIC= BICUBIC\n",
    "# PIL.Image.ANTIALIAS= LANCZOS"
   ]
  },
  {
   "cell_type": "code",
   "execution_count": null,
   "metadata": {},
   "outputs": [],
   "source": [
    "# Open your image file\n",
    "\n",
    "# from PIL import Image\n",
    "# im = Image.open(\"image.png\")\n",
    "# Use PIL Image.resize(size, resample=0) method, where you substitute (width, height) of your image for the size 2-tuple.\n",
    "\n",
    "# This will display your image at original size:\n",
    "\n",
    "# display(im.resize((int(im.size[0]),int(im.size[1])), 0) )\n",
    "# This will display your image at 1/2 the size:\n",
    "\n",
    "# display(im.resize((int(im.size[0]/2),int(im.size[1]/2)), 0) )\n",
    "# This will display your image at 1/3 the size:\n",
    "\n",
    "# display(im.resize((int(im.size[0]/3),int(im.size[1]/3)), 0) )\n",
    "# This will display your image at 1/4 the size:\n",
    "\n",
    "# display(im.resize((int(im.size[0]/4),int(im.size[1]/4)), 0) )\n",
    "# etc etc"
   ]
  },
  {
   "cell_type": "code",
   "execution_count": null,
   "metadata": {},
   "outputs": [],
   "source": [
    "# # The file format of the source file.\n",
    "# print(image1.format) # Output: JPEG\n",
    "\n",
    "# # The pixel format used by the image. Typical values are “1”, “L”, “RGB”, or “CMYK.”\n",
    "# print(image1.mode) # Output: RGB\n",
    "\n",
    "# # Image size, in pixels. The size is given as a 2-tuple (width, height).\n",
    "# print(image1.size) # Output: (1200, 776)\n",
    "\n",
    "# # Colour palette table, if any.\n",
    "# print(image1.palette) # Output: None"
   ]
  },
  {
   "cell_type": "code",
   "execution_count": null,
   "metadata": {},
   "outputs": [],
   "source": [
    "# Pasting one image to another.\n",
    "\n",
    "# image = Image.open('unsplash_01.jpg')\n",
    "# logo = Image.open('logo.png')\n",
    "# image_copy = image.copy()\n",
    "# position = ((image_copy.width - logo.width), (image_copy.height - logo.height))\n",
    "# image_copy.paste(logo, position)\n",
    "# image_copy.save('pasted_image.jpg')"
   ]
  },
  {
   "cell_type": "code",
   "execution_count": null,
   "metadata": {},
   "outputs": [],
   "source": [
    "# Cropping an image\n",
    "# image = Image.open('unsplash_01.jpg')\n",
    "# box = (150, 200, 600, 600)\n",
    "# cropped_image = image.crop(box)\n",
    "# cropped_image.save('cropped_image.jpg')\n"
   ]
  },
  {
   "cell_type": "code",
   "execution_count": null,
   "metadata": {},
   "outputs": [],
   "source": [
    "# Rotating Images\n",
    "\n",
    "# image = Image.open('unsplash_01.jpg')\n",
    "\n",
    "# image_rot_90 = image.rotate(90)\n",
    "# image_rot_90.save('image_rot_90.jpg')\n",
    "\n",
    "# image_rot_180 = image.rotate(180)\n",
    "# image_rot_180.save('image_rot_180.jpg')\n",
    "\n",
    "# To expand the dimensions of the rotated image to fit the entire view, you pass a second argument to rotate() as shown below.\n",
    "\n",
    "# image.rotate(18, expand=True).save('image_rot_18.jpg')\n"
   ]
  },
  {
   "cell_type": "code",
   "execution_count": null,
   "metadata": {},
   "outputs": [],
   "source": [
    "# Flipping Image\n",
    "\n",
    "# image = Image.open('unsplash_01.jpg')\n",
    "\n",
    "# image_flip = image.transpose(Image.FLIP_LEFT_RIGHT)\n",
    "# image_flip.save('image_flip.jpg')"
   ]
  },
  {
   "cell_type": "code",
   "execution_count": null,
   "metadata": {},
   "outputs": [],
   "source": [
    "# #Drawing on Image\n",
    "# from PIL import Image, ImageDraw\n",
    "\n",
    "# blank_image = Image.new('RGBA', (400, 300), 'white')\n",
    "# img_draw = ImageDraw.Draw(blank_image)\n",
    "# img_draw.rectangle((70, 50, 270, 200), outline='red', fill='blue')\n",
    "# img_draw.text((70, 250), 'Hello World', fill='green')\n",
    "# blank_image.save('drawn_image.jpg')"
   ]
  },
  {
   "cell_type": "code",
   "execution_count": null,
   "metadata": {},
   "outputs": [],
   "source": [
    "# Color Transform\n",
    "# image = Image.open('unsplash_01.jpg')\n",
    "\n",
    "# greyscale_image = image.convert('L')\n",
    "# greyscale_image.save('greyscale_image.jpg')"
   ]
  }
 ],
 "metadata": {
  "kernelspec": {
   "display_name": "Python 3",
   "language": "python",
   "name": "python3"
  },
  "language_info": {
   "codemirror_mode": {
    "name": "ipython",
    "version": 3
   },
   "file_extension": ".py",
   "mimetype": "text/x-python",
   "name": "python",
   "nbconvert_exporter": "python",
   "pygments_lexer": "ipython3",
   "version": "3.7.1"
  }
 },
 "nbformat": 4,
 "nbformat_minor": 2
}
